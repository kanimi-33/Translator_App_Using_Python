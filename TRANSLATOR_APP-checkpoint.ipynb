{
 "cells": [
  {
   "cell_type": "code",
   "execution_count": null,
   "id": "ed467b58",
   "metadata": {},
   "outputs": [],
   "source": [
    "from googletrans import Translator\n",
    "translater=Translator()\n",
    "\n",
    "while True:\n",
    "    print(\"************************************************\")\n",
    "    destination=input(\"enter conversion language :\")\n",
    "    inp=input(\"enter sentence :\")\n",
    "    out=translater.translate(inp,dest=destination)\n",
    "    print(out.text)\n",
    "    print(out.pronunciation)\n"
   ]
  },
  {
   "cell_type": "code",
   "execution_count": null,
   "id": "586f3ce9",
   "metadata": {},
   "outputs": [],
   "source": []
  }
 ],
 "metadata": {
  "kernelspec": {
   "display_name": "Python 3 (ipykernel)",
   "language": "python",
   "name": "python3"
  },
  "language_info": {
   "codemirror_mode": {
    "name": "ipython",
    "version": 3
   },
   "file_extension": ".py",
   "mimetype": "text/x-python",
   "name": "python",
   "nbconvert_exporter": "python",
   "pygments_lexer": "ipython3",
   "version": "3.11.3"
  }
 },
 "nbformat": 4,
 "nbformat_minor": 5
}
